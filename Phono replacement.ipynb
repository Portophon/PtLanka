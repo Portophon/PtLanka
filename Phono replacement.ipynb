{
 "cells": [
  {
   "cell_type": "markdown",
   "metadata": {},
   "source": [
    "## Packages"
   ]
  },
  {
   "cell_type": "code",
   "execution_count": 1,
   "metadata": {},
   "outputs": [],
   "source": [
    "import pandas as pd\n",
    "import re"
   ]
  },
  {
   "cell_type": "markdown",
   "metadata": {},
   "source": [
    "## Load data set"
   ]
  },
  {
   "cell_type": "code",
   "execution_count": 2,
   "metadata": {},
   "outputs": [
    {
     "data": {
      "text/html": [
       "<div>\n",
       "<style scoped>\n",
       "    .dataframe tbody tr th:only-of-type {\n",
       "        vertical-align: middle;\n",
       "    }\n",
       "\n",
       "    .dataframe tbody tr th {\n",
       "        vertical-align: top;\n",
       "    }\n",
       "\n",
       "    .dataframe thead th {\n",
       "        text-align: right;\n",
       "    }\n",
       "</style>\n",
       "<table border=\"1\" class=\"dataframe\">\n",
       "  <thead>\n",
       "    <tr style=\"text-align: right;\">\n",
       "      <th></th>\n",
       "      <th>crioulo</th>\n",
       "      <th>IPA</th>\n",
       "    </tr>\n",
       "  </thead>\n",
       "  <tbody>\n",
       "    <tr>\n",
       "      <th>0</th>\n",
       "      <td>Abaço</td>\n",
       "      <td>abaso</td>\n",
       "    </tr>\n",
       "    <tr>\n",
       "      <th>1</th>\n",
       "      <td>Aberçà</td>\n",
       "      <td>abeɾsaː</td>\n",
       "    </tr>\n",
       "    <tr>\n",
       "      <th>2</th>\n",
       "      <td>abersà</td>\n",
       "      <td>abeɾsaː</td>\n",
       "    </tr>\n",
       "    <tr>\n",
       "      <th>3</th>\n",
       "      <td>aburçá</td>\n",
       "      <td>abuɾsaː</td>\n",
       "    </tr>\n",
       "    <tr>\n",
       "      <th>4</th>\n",
       "      <td>Aburcé</td>\n",
       "      <td>abuɾseː</td>\n",
       "    </tr>\n",
       "    <tr>\n",
       "      <th>...</th>\n",
       "      <td>...</td>\n",
       "      <td>...</td>\n",
       "    </tr>\n",
       "    <tr>\n",
       "      <th>2519</th>\n",
       "      <td>Wine</td>\n",
       "      <td>ʋine</td>\n",
       "    </tr>\n",
       "    <tr>\n",
       "      <th>2520</th>\n",
       "      <td>Zumbá</td>\n",
       "      <td>zumbaː</td>\n",
       "    </tr>\n",
       "    <tr>\n",
       "      <th>2521</th>\n",
       "      <td>Zomberías</td>\n",
       "      <td>zombeɾiːas</td>\n",
       "    </tr>\n",
       "    <tr>\n",
       "      <th>2522</th>\n",
       "      <td>zombrias</td>\n",
       "      <td>zombɾias</td>\n",
       "    </tr>\n",
       "    <tr>\n",
       "      <th>2523</th>\n",
       "      <td>zombàrios</td>\n",
       "      <td>zombaːɾios</td>\n",
       "    </tr>\n",
       "  </tbody>\n",
       "</table>\n",
       "<p>2524 rows × 2 columns</p>\n",
       "</div>"
      ],
      "text/plain": [
       "        crioulo         IPA\n",
       "0         Abaço       abaso\n",
       "1        Aberçà     abeɾsaː\n",
       "2        abersà     abeɾsaː\n",
       "3        aburçá     abuɾsaː\n",
       "4        Aburcé     abuɾseː\n",
       "...         ...         ...\n",
       "2519       Wine        ʋine\n",
       "2520      Zumbá      zumbaː\n",
       "2521  Zomberías  zombeɾiːas\n",
       "2522   zombrias    zombɾias\n",
       "2523  zombàrios  zombaːɾios\n",
       "\n",
       "[2524 rows x 2 columns]"
      ]
     },
     "execution_count": 2,
     "metadata": {},
     "output_type": "execute_result"
    }
   ],
   "source": [
    "file_name = \"crioulo_IPA.csv\"\n",
    "\n",
    "word_df = pd.read_csv(file_name)\n",
    "word_df"
   ]
  },
  {
   "cell_type": "code",
   "execution_count": 3,
   "metadata": {},
   "outputs": [
    {
     "data": {
      "text/plain": [
       "0           Abaço\n",
       "1          Aberçà\n",
       "2          abersà\n",
       "3          aburçá\n",
       "4          Aburcé\n",
       "          ...    \n",
       "2519         Wine\n",
       "2520        Zumbá\n",
       "2521    Zomberías\n",
       "2522     zombrias\n",
       "2523    zombàrios\n",
       "Name: crioulo, Length: 2524, dtype: object"
      ]
     },
     "execution_count": 3,
     "metadata": {},
     "output_type": "execute_result"
    }
   ],
   "source": [
    "word_list = word_df[\"crioulo\"]\n",
    "word_list"
   ]
  },
  {
   "cell_type": "code",
   "execution_count": 4,
   "metadata": {
    "scrolled": true
   },
   "outputs": [
    {
     "data": {
      "text/plain": [
       "['abaço',\n",
       " 'aberçà',\n",
       " 'abersà',\n",
       " 'aburçá',\n",
       " 'aburcé',\n",
       " 'ablà',\n",
       " 'aborcido',\n",
       " 'absença',\n",
       " 'absente',\n",
       " 'abundamente']"
      ]
     },
     "execution_count": 4,
     "metadata": {},
     "output_type": "execute_result"
    }
   ],
   "source": [
    "word_list = [i.lower() for i in word_list]\n",
    "word_list[0:10]"
   ]
  },
  {
   "cell_type": "markdown",
   "metadata": {},
   "source": [
    "# Convert to IPA"
   ]
  },
  {
   "cell_type": "code",
   "execution_count": 5,
   "metadata": {},
   "outputs": [
    {
     "data": {
      "text/plain": [
       "['abaso',\n",
       " 'abeɾsaː',\n",
       " 'abeɾsaː',\n",
       " 'abuɾsaː',\n",
       " 'abuɾseː',\n",
       " 'ablaː',\n",
       " 'aboɾsido',\n",
       " 'absensa',\n",
       " 'absente',\n",
       " 'abundamente']"
      ]
     },
     "execution_count": 5,
     "metadata": {},
     "output_type": "execute_result"
    }
   ],
   "source": [
    "word_list = [re.sub(\"s$\",\"s\", i) for i in word_list]\n",
    "word_list = [re.sub(\"z$\",\"s\", i) for i in word_list]\n",
    "word_list = [re.sub(\"g$\",\"g\", i) for i in word_list]\n",
    "word_list = [re.sub(\"c$\",\"k\", i) for i in word_list]\n",
    "word_list = [re.sub(\"(?<=[aáàâãeéèêiíìoóòôõuúùûmnlrtpqcy])s\",\"s\", i) for i in word_list]\n",
    "word_list = [re.sub(\"gg\",\"g\", i) for i in word_list]\n",
    "word_list = [re.sub(\"g(?=[drlnaáàâãoóòôõuúùû])\",\"g\", i) for i in word_list]\n",
    "word_list = [re.sub(\"gu(?=[eéèêiíì])\",\"g\", i) for i in word_list]\n",
    "word_list = [re.sub(\"[vw]\",\"ʋ\", i) for i in word_list]\n",
    "word_list = [re.sub(\"nh\",\"ɲ\", i) for i in word_list]\n",
    "word_list = [re.sub(\"lh\",\"ʎ\", i) for i in word_list]\n",
    "word_list = [re.sub(\"z(?=[aáàâãeéèêiíìoóòôõuúùû\\-])\",\"z\", i) for i in word_list]\n",
    "word_list = [re.sub(\"(?<=[aáàâãeéèêiíìoóòôõuúùû])s(?=[aáàâãeéèêiíìoóòôõuúùû])\",\"z\", i) for i in word_list]\n",
    "word_list = [re.sub(\"s(?=[rmnlbdgvj])\",\"z\", i) for i in word_list]\n",
    "word_list = [re.sub(\"p\",\"p\", i) for i in word_list]\n",
    "word_list = [re.sub(\"b\",\"b\", i) for i in word_list]\n",
    "word_list = [re.sub(\"d\",\"d\", i) for i in word_list]\n",
    "word_list = [re.sub(\"cc(?=[aáàâãoóòôõuúùû])\",\"k\", i) for i in word_list]\n",
    "word_list = [re.sub(\"c(?=[tkrlçaáàâãoóòôõuúùû])\",\"k\", i) for i in word_list]\n",
    "word_list = [re.sub(\"k\",\"k\", i) for i in word_list]\n",
    "word_list = [re.sub(\"t\",\"t\", i) for i in word_list]\n",
    "word_list = [re.sub(\"tt\",\"tː\", i) for i in word_list]\n",
    "word_list = [re.sub(\"qu(?=[eéèêiíì])\",\"k\", i) for i in word_list]\n",
    "word_list = [re.sub(\"q(?=u[aáàâãoóòôõ])\",\"k\", i) for i in word_list]\n",
    "word_list = [re.sub(\"m\",\"m\", i) for i in word_list]\n",
    "word_list = [re.sub(\"mm\",\"m\", i) for i in word_list]\n",
    "word_list = [re.sub(\"n\",\"n\", i) for i in word_list]\n",
    "word_list = [re.sub(\"(nʲ)\",\"ny\", i) for i in word_list]\n",
    "word_list = [re.sub(\"(lʲ)\",\"ly\", i) for i in word_list]\n",
    "word_list = [re.sub(\"ff\",\"f\", i) for i in word_list]\n",
    "word_list = [re.sub(\"f\",\"f\", i) for i in word_list]\n",
    "word_list = [re.sub(\"ph\",\"f\", i) for i in word_list]\n",
    "word_list = [re.sub(\"cc\",\"s\", i) for i in word_list]\n",
    "word_list = [re.sub(\"ss\",\"s\", i) for i in word_list]\n",
    "word_list = [re.sub(\"s(?=[aáàâãeéèêiíìoóòôõuúùûptkcfsç])\",\"s\", i) for i in word_list]\n",
    "word_list = [re.sub(\"ç\",\"s\", i) for i in word_list]\n",
    "word_list = [re.sub(\"c(?=[eéèêiíì])\",\"s\", i) for i in word_list]\n",
    "word_list = [re.sub(\"cs\",\"ks\", i) for i in word_list]\n",
    "word_list = [re.sub(\"^r\",\"____\", i) for i in word_list]\n",
    "word_list = [re.sub(\"rr\",\"____\", i) for i in word_list]\n",
    "word_list = [re.sub(\"r\",\"ɾ\", i) for i in word_list]\n",
    "word_list = [re.sub(\"____\",\"r\", i) for i in word_list]\n",
    "word_list = [re.sub(\"l\",\"l\", i) for i in word_list]\n",
    "word_list = [re.sub(\"ll\",\"l\", i) for i in word_list]\n",
    "word_list = [re.sub(\"tch\",\"t̠ʃ\", i) for i in word_list]\n",
    "word_list = [re.sub(\"ch\",\"t̠ʃ\", i) for i in word_list]\n",
    "word_list = [re.sub(\"dj\",\"d̠ʒ\", i) for i in word_list]\n",
    "word_list = [re.sub(\"j\",\"d̠ʒ\", i) for i in word_list]\n",
    "word_list = [re.sub(\"g(?=[eéèêiíì])\",\"d̠ʒ\", i) for i in word_list]\n",
    "word_list = [re.sub(\"y\",\"j\", i) for i in word_list]\n",
    "word_list = [re.sub(\"(?<=[áàâéèêoóòôúùû])i\",\"j\", i) for i in word_list]\n",
    "word_list = [re.sub(\"sh\",\"ʃ\", i) for i in word_list]\n",
    "word_list = [re.sub(\"x\",\"ʃ\", i) for i in word_list]\n",
    "word_list = [re.sub(\"u\",\"u\", i) for i in word_list]\n",
    "word_list = [re.sub(\"[úùû]\",\"uː\", i) for i in word_list]\n",
    "word_list = [re.sub(\"o\",\"o\", i) for i in word_list]\n",
    "word_list = [re.sub(\"[óòõô]\",\"oː\", i) for i in word_list]\n",
    "word_list = [re.sub(\"aa\",\"a\", i) for i in word_list]\n",
    "word_list = [re.sub(\"a\",\"a\", i) for i in word_list]\n",
    "word_list = [re.sub(\"[àáãâ]\",\"aː\", i) for i in word_list]\n",
    "word_list = [re.sub(\"e\",\"e\", i) for i in word_list]\n",
    "word_list = [re.sub(\"[éèê]\",\"eː\", i) for i in word_list]\n",
    "word_list = [re.sub(\"i\",\"i\", i) for i in word_list]\n",
    "word_list = [re.sub(\"[íìî]\",\"iː\", i) for i in word_list]\n",
    "word_list = [re.sub(\"h\",\"\", i) for i in word_list]\n",
    "word_list = [re.sub(\"-\",\" \", i) for i in word_list]\n",
    "word_list = [re.sub(\"  \", \" \", i) for i in word_list]\n",
    "word_list = [re.sub(\"\\.\\.\\.\", \" \", i) for i in word_list]\n",
    "word_list = [re.sub(\"'\", \"ə\", i) for i in word_list]\n",
    "word_list = [re.sub(\"[cq]\", \" k \", i) for i in word_list]\n",
    "word_list[0:10]"
   ]
  },
  {
   "cell_type": "code",
   "execution_count": 6,
   "metadata": {},
   "outputs": [
    {
     "data": {
      "text/html": [
       "<div>\n",
       "<style scoped>\n",
       "    .dataframe tbody tr th:only-of-type {\n",
       "        vertical-align: middle;\n",
       "    }\n",
       "\n",
       "    .dataframe tbody tr th {\n",
       "        vertical-align: top;\n",
       "    }\n",
       "\n",
       "    .dataframe thead th {\n",
       "        text-align: right;\n",
       "    }\n",
       "</style>\n",
       "<table border=\"1\" class=\"dataframe\">\n",
       "  <thead>\n",
       "    <tr style=\"text-align: right;\">\n",
       "      <th></th>\n",
       "      <th>crioulo</th>\n",
       "      <th>IPA</th>\n",
       "    </tr>\n",
       "  </thead>\n",
       "  <tbody>\n",
       "    <tr>\n",
       "      <th>0</th>\n",
       "      <td>Abaço</td>\n",
       "      <td>abaso</td>\n",
       "    </tr>\n",
       "    <tr>\n",
       "      <th>1</th>\n",
       "      <td>Aberçà</td>\n",
       "      <td>abeɾsaː</td>\n",
       "    </tr>\n",
       "    <tr>\n",
       "      <th>2</th>\n",
       "      <td>abersà</td>\n",
       "      <td>abeɾsaː</td>\n",
       "    </tr>\n",
       "    <tr>\n",
       "      <th>3</th>\n",
       "      <td>aburçá</td>\n",
       "      <td>abuɾsaː</td>\n",
       "    </tr>\n",
       "    <tr>\n",
       "      <th>4</th>\n",
       "      <td>Aburcé</td>\n",
       "      <td>abuɾseː</td>\n",
       "    </tr>\n",
       "    <tr>\n",
       "      <th>...</th>\n",
       "      <td>...</td>\n",
       "      <td>...</td>\n",
       "    </tr>\n",
       "    <tr>\n",
       "      <th>2519</th>\n",
       "      <td>Wine</td>\n",
       "      <td>ʋine</td>\n",
       "    </tr>\n",
       "    <tr>\n",
       "      <th>2520</th>\n",
       "      <td>Zumbá</td>\n",
       "      <td>zumbaː</td>\n",
       "    </tr>\n",
       "    <tr>\n",
       "      <th>2521</th>\n",
       "      <td>Zomberías</td>\n",
       "      <td>zombeɾiːas</td>\n",
       "    </tr>\n",
       "    <tr>\n",
       "      <th>2522</th>\n",
       "      <td>zombrias</td>\n",
       "      <td>zombɾias</td>\n",
       "    </tr>\n",
       "    <tr>\n",
       "      <th>2523</th>\n",
       "      <td>zombàrios</td>\n",
       "      <td>zombaːɾios</td>\n",
       "    </tr>\n",
       "  </tbody>\n",
       "</table>\n",
       "<p>2524 rows × 2 columns</p>\n",
       "</div>"
      ],
      "text/plain": [
       "        crioulo         IPA\n",
       "0         Abaço       abaso\n",
       "1        Aberçà     abeɾsaː\n",
       "2        abersà     abeɾsaː\n",
       "3        aburçá     abuɾsaː\n",
       "4        Aburcé     abuɾseː\n",
       "...         ...         ...\n",
       "2519       Wine        ʋine\n",
       "2520      Zumbá      zumbaː\n",
       "2521  Zomberías  zombeɾiːas\n",
       "2522   zombrias    zombɾias\n",
       "2523  zombàrios  zombaːɾios\n",
       "\n",
       "[2524 rows x 2 columns]"
      ]
     },
     "execution_count": 6,
     "metadata": {},
     "output_type": "execute_result"
    }
   ],
   "source": [
    "word_df[\"IPA\"] = word_list\n",
    "word_df"
   ]
  },
  {
   "cell_type": "code",
   "execution_count": 7,
   "metadata": {},
   "outputs": [],
   "source": [
    "word_df.to_csv(\"crioulo_IPA.csv\", index = False, header = True)"
   ]
  }
 ],
 "metadata": {
  "hide_input": false,
  "kernelspec": {
   "display_name": "Python 3",
   "language": "python",
   "name": "python3"
  },
  "language_info": {
   "codemirror_mode": {
    "name": "ipython",
    "version": 3
   },
   "file_extension": ".py",
   "mimetype": "text/x-python",
   "name": "python",
   "nbconvert_exporter": "python",
   "pygments_lexer": "ipython3",
   "version": "3.8.5"
  },
  "toc": {
   "base_numbering": 1,
   "nav_menu": {},
   "number_sections": true,
   "sideBar": true,
   "skip_h1_title": false,
   "title_cell": "Table of Contents",
   "title_sidebar": "Contents",
   "toc_cell": false,
   "toc_position": {},
   "toc_section_display": true,
   "toc_window_display": false
  }
 },
 "nbformat": 4,
 "nbformat_minor": 4
}
